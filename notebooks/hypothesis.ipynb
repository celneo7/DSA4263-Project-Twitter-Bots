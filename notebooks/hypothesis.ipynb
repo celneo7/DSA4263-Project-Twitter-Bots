{
 "cells": [
  {
   "cell_type": "code",
   "execution_count": 1,
   "id": "adf3128c",
   "metadata": {},
   "outputs": [
    {
     "name": "stderr",
     "output_type": "stream",
     "text": [
      "c:\\Users\\CelesteN\\Documents\\nus resources\\dsa4263\\project\\venv\\Lib\\site-packages\\tqdm\\auto.py:21: TqdmWarning: IProgress not found. Please update jupyter and ipywidgets. See https://ipywidgets.readthedocs.io/en/stable/user_install.html\n",
      "  from .autonotebook import tqdm as notebook_tqdm\n"
     ]
    }
   ],
   "source": [
    "from collections import Counter\n",
    "from dotenv import load_dotenv\n",
    "from hyppo.ksample import Energy\n",
    "import matplotlib.pyplot as plt\n",
    "import nltk\n",
    "from nltk.stem import WordNetLemmatizer\n",
    "from nltk.corpus import stopwords\n",
    "from nltk.tokenize import word_tokenize\n",
    "import os\n",
    "import re\n",
    "import numpy as np\n",
    "import pandas as pd\n",
    "from scipy.stats import chi2_contingency, mannwhitneyu\n",
    "import seaborn as sns\n",
    "from sentence_transformers import SentenceTransformer\n",
    "from sklearn.feature_extraction.text import CountVectorizer\n",
    "import ast"
   ]
  },
  {
   "cell_type": "code",
   "execution_count": 51,
   "id": "635fc7fe",
   "metadata": {},
   "outputs": [],
   "source": [
    "twitter_accounts_df = pd.read_csv(\"../data/interim/cleaned.csv\")\n",
    "embeddings = pd.read_csv(\"../data/interim/translated_embeddings.csv\")\n",
    "\n",
    "twitter_translated_embeddings_df = pd.merge(twitter_accounts_df, embeddings, on='id')"
   ]
  },
  {
   "cell_type": "code",
   "execution_count": 52,
   "id": "bdb99112",
   "metadata": {},
   "outputs": [
    {
     "data": {
      "text/html": [
       "<div>\n",
       "<style scoped>\n",
       "    .dataframe tbody tr th:only-of-type {\n",
       "        vertical-align: middle;\n",
       "    }\n",
       "\n",
       "    .dataframe tbody tr th {\n",
       "        vertical-align: top;\n",
       "    }\n",
       "\n",
       "    .dataframe thead th {\n",
       "        text-align: right;\n",
       "    }\n",
       "</style>\n",
       "<table border=\"1\" class=\"dataframe\">\n",
       "  <thead>\n",
       "    <tr style=\"text-align: right;\">\n",
       "      <th></th>\n",
       "      <th>created_at</th>\n",
       "      <th>default_profile</th>\n",
       "      <th>default_profile_image</th>\n",
       "      <th>description</th>\n",
       "      <th>favourites_count</th>\n",
       "      <th>followers_count</th>\n",
       "      <th>friends_count</th>\n",
       "      <th>geo_enabled</th>\n",
       "      <th>id</th>\n",
       "      <th>lang</th>\n",
       "      <th>...</th>\n",
       "      <th>account_age_days</th>\n",
       "      <th>account_type</th>\n",
       "      <th>lang_grouped</th>\n",
       "      <th>length</th>\n",
       "      <th>word_count</th>\n",
       "      <th>mean_word_length</th>\n",
       "      <th>mean_sent_length</th>\n",
       "      <th>hashtag_count</th>\n",
       "      <th>handle_count</th>\n",
       "      <th>url_count</th>\n",
       "    </tr>\n",
       "  </thead>\n",
       "  <tbody>\n",
       "    <tr>\n",
       "      <th>0</th>\n",
       "      <td>2016-10-15 21:32:11</td>\n",
       "      <td>False</td>\n",
       "      <td>False</td>\n",
       "      <td>Blame @xaiax, Inspired by @MakingInvisible, us...</td>\n",
       "      <td>4</td>\n",
       "      <td>1589</td>\n",
       "      <td>4</td>\n",
       "      <td>False</td>\n",
       "      <td>787405734442958848</td>\n",
       "      <td>en</td>\n",
       "      <td>...</td>\n",
       "      <td>1403</td>\n",
       "      <td>bot</td>\n",
       "      <td>en</td>\n",
       "      <td>129.0</td>\n",
       "      <td>18</td>\n",
       "      <td>6.222222</td>\n",
       "      <td>64.0</td>\n",
       "      <td>0</td>\n",
       "      <td>2</td>\n",
       "      <td>0</td>\n",
       "    </tr>\n",
       "    <tr>\n",
       "      <th>1</th>\n",
       "      <td>2016-11-09 05:01:30</td>\n",
       "      <td>False</td>\n",
       "      <td>False</td>\n",
       "      <td>Photographing the American West since 1980. I ...</td>\n",
       "      <td>536</td>\n",
       "      <td>860</td>\n",
       "      <td>880</td>\n",
       "      <td>False</td>\n",
       "      <td>796216118331310080</td>\n",
       "      <td>en</td>\n",
       "      <td>...</td>\n",
       "      <td>1379</td>\n",
       "      <td>human</td>\n",
       "      <td>en</td>\n",
       "      <td>160.0</td>\n",
       "      <td>24</td>\n",
       "      <td>5.708333</td>\n",
       "      <td>79.5</td>\n",
       "      <td>0</td>\n",
       "      <td>0</td>\n",
       "      <td>0</td>\n",
       "    </tr>\n",
       "    <tr>\n",
       "      <th>2</th>\n",
       "      <td>2017-06-17 05:34:27</td>\n",
       "      <td>False</td>\n",
       "      <td>False</td>\n",
       "      <td>Scruffy looking nerf herder and @twitch broadc...</td>\n",
       "      <td>3307</td>\n",
       "      <td>172</td>\n",
       "      <td>594</td>\n",
       "      <td>True</td>\n",
       "      <td>875949740503859204</td>\n",
       "      <td>en</td>\n",
       "      <td>...</td>\n",
       "      <td>1159</td>\n",
       "      <td>human</td>\n",
       "      <td>en</td>\n",
       "      <td>81.0</td>\n",
       "      <td>10</td>\n",
       "      <td>7.100000</td>\n",
       "      <td>81.0</td>\n",
       "      <td>0</td>\n",
       "      <td>2</td>\n",
       "      <td>0</td>\n",
       "    </tr>\n",
       "    <tr>\n",
       "      <th>3</th>\n",
       "      <td>2016-07-21 13:32:25</td>\n",
       "      <td>True</td>\n",
       "      <td>False</td>\n",
       "      <td>Wife.Godmother.Friend.Feline Fanatic! Assistan...</td>\n",
       "      <td>8433</td>\n",
       "      <td>517</td>\n",
       "      <td>633</td>\n",
       "      <td>True</td>\n",
       "      <td>756119643622735875</td>\n",
       "      <td>en</td>\n",
       "      <td>...</td>\n",
       "      <td>1489</td>\n",
       "      <td>human</td>\n",
       "      <td>en</td>\n",
       "      <td>97.0</td>\n",
       "      <td>9</td>\n",
       "      <td>9.888889</td>\n",
       "      <td>48.0</td>\n",
       "      <td>0</td>\n",
       "      <td>0</td>\n",
       "      <td>0</td>\n",
       "    </tr>\n",
       "    <tr>\n",
       "      <th>4</th>\n",
       "      <td>2012-01-15 16:32:35</td>\n",
       "      <td>False</td>\n",
       "      <td>False</td>\n",
       "      <td>Loan coach at @mancity &amp; Aspiring DJ</td>\n",
       "      <td>88</td>\n",
       "      <td>753678</td>\n",
       "      <td>116</td>\n",
       "      <td>True</td>\n",
       "      <td>464781334</td>\n",
       "      <td>en</td>\n",
       "      <td>...</td>\n",
       "      <td>3138</td>\n",
       "      <td>human</td>\n",
       "      <td>en</td>\n",
       "      <td>36.0</td>\n",
       "      <td>7</td>\n",
       "      <td>4.285714</td>\n",
       "      <td>36.0</td>\n",
       "      <td>0</td>\n",
       "      <td>1</td>\n",
       "      <td>0</td>\n",
       "    </tr>\n",
       "  </tbody>\n",
       "</table>\n",
       "<p>5 rows × 27 columns</p>\n",
       "</div>"
      ],
      "text/plain": [
       "            created_at  default_profile  default_profile_image  \\\n",
       "0  2016-10-15 21:32:11            False                  False   \n",
       "1  2016-11-09 05:01:30            False                  False   \n",
       "2  2017-06-17 05:34:27            False                  False   \n",
       "3  2016-07-21 13:32:25             True                  False   \n",
       "4  2012-01-15 16:32:35            False                  False   \n",
       "\n",
       "                                         description  favourites_count  \\\n",
       "0  Blame @xaiax, Inspired by @MakingInvisible, us...                 4   \n",
       "1  Photographing the American West since 1980. I ...               536   \n",
       "2  Scruffy looking nerf herder and @twitch broadc...              3307   \n",
       "3  Wife.Godmother.Friend.Feline Fanatic! Assistan...              8433   \n",
       "4               Loan coach at @mancity & Aspiring DJ                88   \n",
       "\n",
       "   followers_count  friends_count  geo_enabled                  id lang  ...  \\\n",
       "0             1589              4        False  787405734442958848   en  ...   \n",
       "1              860            880        False  796216118331310080   en  ...   \n",
       "2              172            594         True  875949740503859204   en  ...   \n",
       "3              517            633         True  756119643622735875   en  ...   \n",
       "4           753678            116         True           464781334   en  ...   \n",
       "\n",
       "  account_age_days account_type lang_grouped length  word_count  \\\n",
       "0             1403          bot           en  129.0          18   \n",
       "1             1379        human           en  160.0          24   \n",
       "2             1159        human           en   81.0          10   \n",
       "3             1489        human           en   97.0           9   \n",
       "4             3138        human           en   36.0           7   \n",
       "\n",
       "   mean_word_length  mean_sent_length  hashtag_count handle_count url_count  \n",
       "0          6.222222              64.0              0            2         0  \n",
       "1          5.708333              79.5              0            0         0  \n",
       "2          7.100000              81.0              0            2         0  \n",
       "3          9.888889              48.0              0            0         0  \n",
       "4          4.285714              36.0              0            1         0  \n",
       "\n",
       "[5 rows x 27 columns]"
      ]
     },
     "execution_count": 52,
     "metadata": {},
     "output_type": "execute_result"
    }
   ],
   "source": [
    "twitter_accounts_df.head()"
   ]
  },
  {
   "cell_type": "code",
   "execution_count": 4,
   "id": "fc314fe5",
   "metadata": {},
   "outputs": [],
   "source": [
    "bot_indices = twitter_accounts_df[\"account_type\"]==\"bot\"\n",
    "human_indices = twitter_accounts_df[\"account_type\"]==\"human\""
   ]
  },
  {
   "cell_type": "markdown",
   "id": "a12c0e4a",
   "metadata": {},
   "source": [
    "# Hypothesis 1: Bots have a lower follower-to-friend ratio compared to human accounts\n",
    "Bots are often used to artificially boost engagement or amplify content visibility. To appear active and legitimate, they tend to follow large numbers of accounts, including both other bots and real users. This can explain why many bots also have high follower counts these are often other bots within coordinated networks.\n",
    "However, bots generally lack reciprocation from real users because their mass-following behavior is easily recognizable as suspicious or inauthentic. As a result, their follower-to-friend ratio remains significantly lower than that of human accounts, reflecting their one-sided and automated interaction patterns."
   ]
  },
  {
   "cell_type": "code",
   "execution_count": 5,
   "id": "99789d5d",
   "metadata": {},
   "outputs": [],
   "source": [
    "twitter_accounts_df[\"followers_friends_ratio\"] = twitter_accounts_df[\"followers_count\"] / twitter_accounts_df[\"friends_count\"]"
   ]
  },
  {
   "cell_type": "code",
   "execution_count": 6,
   "id": "f3f9a0c8",
   "metadata": {},
   "outputs": [
    {
     "data": {
      "text/plain": [
       "followers_friends_ratio\n",
       "inf         5376\n",
       "0.000000     221\n",
       "1.000000      85\n",
       "0.500000      64\n",
       "0.333333      59\n",
       "            ... \n",
       "1.745182       1\n",
       "0.674942       1\n",
       "1.354626       1\n",
       "8.640000       1\n",
       "0.200608       1\n",
       "Name: count, Length: 26700, dtype: int64"
      ]
     },
     "execution_count": 6,
     "metadata": {},
     "output_type": "execute_result"
    },
    {
     "data": {
      "image/png": "[encoded data removed]",
      "text/plain": [
       "<Figure size 640x480 with 1 Axes>"
      ]
     },
     "metadata": {},
     "output_type": "display_data"
    }
   ],
   "source": [
    "sns.kdeplot(x=twitter_accounts_df[\"followers_friends_ratio\"])\n",
    "twitter_accounts_df[\"followers_friends_ratio\"].value_counts()"
   ]
  },
  {
   "cell_type": "markdown",
   "id": "3f9789f8",
   "metadata": {},
   "source": [
    "Many accounts have inifinite or extremely large follower-to-friend ratios due to 0 friend/follwoer counts. To handle this, the ratio was transformed as log((followers+1)/(friends+1))"
   ]
  },
  {
   "cell_type": "code",
   "execution_count": 7,
   "id": "fe8cf5fb",
   "metadata": {},
   "outputs": [],
   "source": [
    "twitter_accounts_df[\"log_followers_friends_ratio\"] = np.log((twitter_accounts_df[\"followers_count\"] + 1) / (twitter_accounts_df[\"friends_count\"] + 1))"
   ]
  },
  {
   "cell_type": "code",
   "execution_count": 8,
   "id": "f2558d48",
   "metadata": {},
   "outputs": [
    {
     "data": {
      "text/plain": [
       "<Axes: xlabel='log_followers_friends_ratio', ylabel='Density'>"
      ]
     },
     "execution_count": 8,
     "metadata": {},
     "output_type": "execute_result"
    },
    {
     "data": {
      "image/png": "[encoded data removed]",
      "text/plain": [
       "<Figure size 640x480 with 1 Axes>"
      ]
     },
     "metadata": {},
     "output_type": "display_data"
    }
   ],
   "source": [
    "sns.kdeplot(data=twitter_accounts_df, x=\"log_followers_friends_ratio\", hue=\"account_type\")"
   ]
  },
  {
   "cell_type": "markdown",
   "id": "813325c1",
   "metadata": {},
   "source": [
    "Since `log_followers_friends_ratio` is not normally distributed, test for statistical significance using non-parametric the Mann-Whitney U test."
   ]
  },
  {
   "cell_type": "code",
   "execution_count": 9,
   "id": "be914c5e",
   "metadata": {},
   "outputs": [
    {
     "name": "stdout",
     "output_type": "stream",
     "text": [
      "Mann-Whitney U p-value: 4.298753605943666e-207\n"
     ]
    }
   ],
   "source": [
    "bots_ratio = twitter_accounts_df[\"log_followers_friends_ratio\"][bot_indices]\n",
    "humans_ratio = twitter_accounts_df[\"log_followers_friends_ratio\"][human_indices]\n",
    "stat, p = mannwhitneyu(bots_ratio, humans_ratio, alternative=\"two-sided\")\n",
    "print(f\"Mann-Whitney U p-value: {p}\")"
   ]
  },
  {
   "cell_type": "markdown",
   "id": "b6cdde19",
   "metadata": {},
   "source": [
    "p-value is observed to be <0.05 which means the difference is statistically significant, hence we can support the hypothesis that bots tend to follow more users while having far fewer followers."
   ]
  },
  {
   "cell_type": "markdown",
   "id": "ee9387ed",
   "metadata": {},
   "source": [
    "# Hypothesis 2: Bots and humans use distinct language patterns in their profile descriptions.\n",
    "\n",
    "Profile descriptions reflect how users present themselves on Twitter. Human users typically write with personalized, expressive, and varied language, whereas bots often employ generic, templated, or keyword-driven text to appear relevant or to advertise specific content.\n",
    "\n",
    "## Method\n",
    "To assess whether profile-language differs systematically between bots and humans we used both token-level and representation-level analyses.\n",
    "\n",
    "### Token-Level:\n",
    "At the token level, we ran:\n",
    "1. Chi-square tests on individual n-grams to identify terms with significantly different frequency between groups\n",
    "2. Log-odds with informative Dirichlet priors (LODP) to estimate effect sizes and rank n-grams by how strongly they associate with each class\n",
    "\n",
    "### Representation-level:\n",
    "At the representation level, we embedded each profile description with a pretrained sentence encoder and performed\n",
    "3. Mann–Whitney U test on per-account embedding similarity / projection scores to compare central tendencies\n",
    "4. Energy distance test to compare the full multivariate embedding distributions between the two groups.\n"
   ]
  },
  {
   "cell_type": "markdown",
   "id": "46826751",
   "metadata": {},
   "source": [
    "## Token-Level"
   ]
  },
  {
   "cell_type": "markdown",
   "id": "9301a5ce",
   "metadata": {},
   "source": [
    "### 1. Chi-Square Test on n-gram"
   ]
  },
  {
   "cell_type": "code",
   "execution_count": 10,
   "id": "d29a1d5b",
   "metadata": {},
   "outputs": [],
   "source": [
    "def custom_preprocessor(text):\n",
    "    \"\"\"\n",
    "    Remove translated pattern from descriptions that were translated to english.\n",
    "    Normalize  by replacing handles and URLs with placeholders, lowercase and lemmatize.\n",
    "    \"\"\"\n",
    "    translated_pattern = r\"'translation_text': '([^']*)'\"\n",
    "    match = re.search(translated_pattern, text)\n",
    "    if match:\n",
    "        text = match[1]\n",
    "\n",
    "    # replace URLs with placeholder\n",
    "    text = re.sub(r'[^a-zA-Z\\s]', '', text.lower())\n",
    "\n",
    "    # remove newlines, tabs, and extra spaces\n",
    "    text = re.sub(r\"[\\n\\t]+\", \" \", text)\n",
    "    text = re.sub(r\"\\s+\", \" \", text)\n",
    "\n",
    "    text = text.lower().strip()\n",
    "\n",
    "    stop_words = set(nltk.corpus.stopwords.words(\"english\"))\n",
    "    filtered = [word for word in text.split() if word not in stop_words]\n",
    "    lemmatizer = WordNetLemmatizer()\n",
    "    lemmatized = [lemmatizer.lemmatize(word) for word in filtered]\n",
    "    return \" \".join(lemmatized)\n",
    "\n",
    "\n",
    "twitter_translated_embeddings_df[\"description_en\"] = twitter_translated_embeddings_df[\"description_en\"].fillna(\"\")\n",
    "twitter_translated_embeddings_df[\"description_en\"] = twitter_translated_embeddings_df[\"description_en\"].apply(custom_preprocessor)"
   ]
  },
  {
   "cell_type": "code",
   "execution_count": 26,
   "id": "142540b0",
   "metadata": {},
   "outputs": [
    {
     "data": {
      "text/html": [
       "<div>\n",
       "<style scoped>\n",
       "    .dataframe tbody tr th:only-of-type {\n",
       "        vertical-align: middle;\n",
       "    }\n",
       "\n",
       "    .dataframe tbody tr th {\n",
       "        vertical-align: top;\n",
       "    }\n",
       "\n",
       "    .dataframe thead th {\n",
       "        text-align: right;\n",
       "    }\n",
       "</style>\n",
       "<table border=\"1\" class=\"dataframe\">\n",
       "  <thead>\n",
       "    <tr style=\"text-align: right;\">\n",
       "      <th></th>\n",
       "      <th>ngram</th>\n",
       "      <th>bot_freq</th>\n",
       "      <th>human_freq</th>\n",
       "      <th>bot_norm</th>\n",
       "      <th>human_norm</th>\n",
       "      <th>chi2</th>\n",
       "      <th>p</th>\n",
       "    </tr>\n",
       "  </thead>\n",
       "  <tbody>\n",
       "    <tr>\n",
       "      <th>652</th>\n",
       "      <td>bot</td>\n",
       "      <td>333</td>\n",
       "      <td>15</td>\n",
       "      <td>0.008315</td>\n",
       "      <td>0.000112</td>\n",
       "      <td>1038.652389</td>\n",
       "      <td>7.125039e-228</td>\n",
       "    </tr>\n",
       "    <tr>\n",
       "      <th>1072</th>\n",
       "      <td>come</td>\n",
       "      <td>450</td>\n",
       "      <td>124</td>\n",
       "      <td>0.011237</td>\n",
       "      <td>0.000923</td>\n",
       "      <td>997.469080</td>\n",
       "      <td>6.373784e-219</td>\n",
       "    </tr>\n",
       "    <tr>\n",
       "      <th>5880</th>\n",
       "      <td>trading</td>\n",
       "      <td>256</td>\n",
       "      <td>36</td>\n",
       "      <td>0.006392</td>\n",
       "      <td>0.000268</td>\n",
       "      <td>688.790247</td>\n",
       "      <td>8.191560e-152</td>\n",
       "    </tr>\n",
       "    <tr>\n",
       "      <th>6201</th>\n",
       "      <td>waiting</td>\n",
       "      <td>210</td>\n",
       "      <td>18</td>\n",
       "      <td>0.005244</td>\n",
       "      <td>0.000134</td>\n",
       "      <td>613.178570</td>\n",
       "      <td>2.277227e-135</td>\n",
       "    </tr>\n",
       "    <tr>\n",
       "      <th>926</th>\n",
       "      <td>check</td>\n",
       "      <td>263</td>\n",
       "      <td>88</td>\n",
       "      <td>0.006567</td>\n",
       "      <td>0.000655</td>\n",
       "      <td>534.074890</td>\n",
       "      <td>3.668097e-118</td>\n",
       "    </tr>\n",
       "    <tr>\n",
       "      <th>...</th>\n",
       "      <td>...</td>\n",
       "      <td>...</td>\n",
       "      <td>...</td>\n",
       "      <td>...</td>\n",
       "      <td>...</td>\n",
       "      <td>...</td>\n",
       "      <td>...</td>\n",
       "    </tr>\n",
       "    <tr>\n",
       "      <th>3691</th>\n",
       "      <td>mayor</td>\n",
       "      <td>0</td>\n",
       "      <td>17</td>\n",
       "      <td>0.000000</td>\n",
       "      <td>0.000127</td>\n",
       "      <td>3.851879</td>\n",
       "      <td>4.969030e-02</td>\n",
       "    </tr>\n",
       "    <tr>\n",
       "      <th>5191</th>\n",
       "      <td>senator</td>\n",
       "      <td>0</td>\n",
       "      <td>17</td>\n",
       "      <td>0.000000</td>\n",
       "      <td>0.000127</td>\n",
       "      <td>3.851879</td>\n",
       "      <td>4.969030e-02</td>\n",
       "    </tr>\n",
       "    <tr>\n",
       "      <th>6088</th>\n",
       "      <td>usc</td>\n",
       "      <td>0</td>\n",
       "      <td>17</td>\n",
       "      <td>0.000000</td>\n",
       "      <td>0.000127</td>\n",
       "      <td>3.851879</td>\n",
       "      <td>4.969030e-02</td>\n",
       "    </tr>\n",
       "    <tr>\n",
       "      <th>5830</th>\n",
       "      <td>time bestselling</td>\n",
       "      <td>0</td>\n",
       "      <td>17</td>\n",
       "      <td>0.000000</td>\n",
       "      <td>0.000127</td>\n",
       "      <td>3.851879</td>\n",
       "      <td>4.969030e-02</td>\n",
       "    </tr>\n",
       "    <tr>\n",
       "      <th>143</th>\n",
       "      <td>alabama</td>\n",
       "      <td>0</td>\n",
       "      <td>17</td>\n",
       "      <td>0.000000</td>\n",
       "      <td>0.000127</td>\n",
       "      <td>3.851879</td>\n",
       "      <td>4.969030e-02</td>\n",
       "    </tr>\n",
       "  </tbody>\n",
       "</table>\n",
       "<p>984 rows × 7 columns</p>\n",
       "</div>"
      ],
      "text/plain": [
       "                 ngram  bot_freq  human_freq  bot_norm  human_norm  \\\n",
       "652                bot       333          15  0.008315    0.000112   \n",
       "1072              come       450         124  0.011237    0.000923   \n",
       "5880           trading       256          36  0.006392    0.000268   \n",
       "6201           waiting       210          18  0.005244    0.000134   \n",
       "926              check       263          88  0.006567    0.000655   \n",
       "...                ...       ...         ...       ...         ...   \n",
       "3691             mayor         0          17  0.000000    0.000127   \n",
       "5191           senator         0          17  0.000000    0.000127   \n",
       "6088               usc         0          17  0.000000    0.000127   \n",
       "5830  time bestselling         0          17  0.000000    0.000127   \n",
       "143            alabama         0          17  0.000000    0.000127   \n",
       "\n",
       "             chi2              p  \n",
       "652   1038.652389  7.125039e-228  \n",
       "1072   997.469080  6.373784e-219  \n",
       "5880   688.790247  8.191560e-152  \n",
       "6201   613.178570  2.277227e-135  \n",
       "926    534.074890  3.668097e-118  \n",
       "...           ...            ...  \n",
       "3691     3.851879   4.969030e-02  \n",
       "5191     3.851879   4.969030e-02  \n",
       "6088     3.851879   4.969030e-02  \n",
       "5830     3.851879   4.969030e-02  \n",
       "143      3.851879   4.969030e-02  \n",
       "\n",
       "[984 rows x 7 columns]"
      ]
     },
     "execution_count": 26,
     "metadata": {},
     "output_type": "execute_result"
    }
   ],
   "source": [
    "# obtain n-gram counts\n",
    "vectorizer = CountVectorizer(ngram_range=(1, 2), min_df=5)  # or based on your threshold\n",
    "vectorizer.fit(twitter_translated_embeddings_df[\"description_en\"].tolist())\n",
    "\n",
    "bot_matrix = vectorizer.transform(twitter_translated_embeddings_df[twitter_translated_embeddings_df.account_type == \"bot\"][\"description_en\"])\n",
    "human_matrix = vectorizer.transform(twitter_translated_embeddings_df[twitter_translated_embeddings_df.account_type == \"human\"][\"description_en\"])\n",
    "\n",
    "bot_counts = np.asarray(bot_matrix.sum(axis=0)).flatten()\n",
    "human_counts = np.asarray(human_matrix.sum(axis=0)).flatten()\n",
    "\n",
    "total_bot = bot_counts.sum()\n",
    "total_human = human_counts.sum()\n",
    "\n",
    "ngram_df = pd.DataFrame({\n",
    "    \"ngram\": vectorizer.get_feature_names_out(),\n",
    "    \"bot_freq\": bot_counts,\n",
    "    \"human_freq\": human_counts\n",
    "})\n",
    "\n",
    "ngram_df[\"bot_norm\"] = ngram_df[\"bot_freq\"] / total_bot\n",
    "ngram_df[\"human_norm\"] = ngram_df[\"human_freq\"] / total_human\n",
    "\n",
    "\n",
    "# chi-square test on each n-gram\n",
    "chi2_vals = []\n",
    "p_vals = []\n",
    "\n",
    "for i, (ngram, bot_freq, human_freq, _, _) in ngram_df.iterrows():\n",
    "    chi2, p, _, _ = chi2_contingency([\n",
    "    [bot_freq, human_freq],\n",
    "    [total_bot - bot_freq, total_human - human_freq]\n",
    "])\n",
    "    chi2_vals.append(chi2)\n",
    "    p_vals.append(p)\n",
    "\n",
    "ngram_df[\"chi2\"] = chi2_vals\n",
    "ngram_df[\"p\"] = p_vals\n",
    "\n",
    "# filter significant n-grams\n",
    "ngram_df[ngram_df[\"p\"] <= 0.05].sort_values(by=\"p\")"
   ]
  },
  {
   "cell_type": "markdown",
   "id": "9c0bef02",
   "metadata": {},
   "source": [
    "### 2. Log Odds Ratio with Informative Dirichlet Prior (LODP)\n",
    "\n",
    "- identify characteristic words that distinguish the language used in human profile and bot profile descriptions\n",
    "- LODP calculates the log odds ratio of term frequencies between 2 corpora, while incorporating a prior (combined) distribution of word frequencies to account for potential biases and to smooth estimates\n",
    "\n",
    "reference: https://antonio-velazquez-bustamante.medium.com/comparing-political-speeches-with-python-and-nlp-54cd506e91b9"
   ]
  },
  {
   "cell_type": "code",
   "execution_count": 27,
   "id": "a46b1f66",
   "metadata": {},
   "outputs": [],
   "source": [
    "def lodp(corpus1, corpus2, prior_corpus, alpha=0.01):\n",
    "    def descriptions_to_tokens(corpus):\n",
    "        return [token for desc in corpus for token in word_tokenize(desc)]\n",
    "    \n",
    "    tokens1 = descriptions_to_tokens(corpus1)\n",
    "    tokens2 = descriptions_to_tokens(corpus2)\n",
    "    prior_tokens = descriptions_to_tokens(prior_corpus)\n",
    "\n",
    "    term_count_corpus1 = Counter(tokens1)\n",
    "    term_count_corpus2 = Counter(tokens2)\n",
    "    term_count_prior = Counter(prior_tokens)\n",
    "\n",
    "    vocab = set(term_count_corpus1) | set(term_count_corpus2) | set(term_count_prior)\n",
    "    n_terms = len(vocab)\n",
    "\n",
    "    term_indices = {term: i for i, term in enumerate(vocab)}\n",
    "\n",
    "    counts1 = np.zeros(n_terms)\n",
    "    counts2 = np.zeros(n_terms)\n",
    "    prior_counts = np.zeros(n_terms)\n",
    " \n",
    "    # Count occurrences of each unique word\n",
    "    for term, count in term_count_corpus1.items():\n",
    "        counts1[term_indices[term]] = count\n",
    "\n",
    "    for term, count in term_count_corpus2.items():\n",
    "        counts2[term_indices[term]] = count\n",
    "\n",
    "    for term, count in term_count_prior.items():\n",
    "        prior_counts[term_indices[term]] = count\n",
    "\n",
    "    n1 = counts1.sum()\n",
    "    n2 = counts2.sum()\n",
    "    nprior = prior_counts.sum()\n",
    "\n",
    "    # Calculate the smoothed word counts in the two corpora using a Dirichlet prior.\n",
    "    counts1 += alpha * prior_counts\n",
    "    counts2 += alpha * prior_counts\n",
    "\n",
    "    # Compute the log odds ratio for each word by taking the difference of the logarithms of the smoothed counts for each corpus, normalized by their respective total counts.\n",
    "    log_odds = np.log(counts1) - np.log(counts1.sum()) - np.log(counts2) + np.log(counts2.sum())\n",
    "    \n",
    "    # Calculate the variance for each word using the inverse of the smoothed counts.\n",
    "    variance = 1 / counts1 + 1 / counts2\n",
    "\n",
    "    # Compute the z-scores by dividing the log odds ratios by the square root of the variances.\n",
    "    z_scores = log_odds / np.sqrt(variance)\n",
    "\n",
    "    return {term: z_scores[i] for term, i in term_indices.items()}\n",
    "\n",
    "\n",
    "def plot_top_words(z_scores, n=10):\n",
    "    sorted_terms = sorted(z_scores, key=z_scores.get)\n",
    "    top_positive_terms = sorted_terms[-n:]\n",
    "    top_negative_terms = sorted_terms[:n]\n",
    "\n",
    "    top_positive_scores = [z_scores[term] for term in top_positive_terms]\n",
    "    top_negative_scores = [z_scores[term] for term in top_negative_terms]\n",
    "\n",
    "    fig, ax = plt.subplots()\n",
    "\n",
    "    y_pos = np.arange(n)\n",
    "\n",
    "    ax.barh(y_pos, top_positive_scores, align='center', color='blue', label='Human Corpus')\n",
    "    ax.barh(-y_pos - 1, top_negative_scores, align='center', color='red', label='Bot Corpus')\n",
    "\n",
    "    ax.set_yticks(np.hstack((y_pos, -y_pos - 1)))\n",
    "    ax.set_yticklabels(top_positive_terms + top_negative_terms)\n",
    "    ax.invert_yaxis()\n",
    "\n",
    "    ax.set_xlabel('Z-Scores')\n",
    "    ax.set_title('Top Words by Log Odds Ratio with Informative Dirichlet Prior')\n",
    "    ax.legend()\n",
    "\n",
    "    plt.show()"
   ]
  },
  {
   "cell_type": "code",
   "execution_count": 28,
   "id": "2483854d",
   "metadata": {},
   "outputs": [
    {
     "data": {
      "image/png": "[encoded data removed]",
      "text/plain": [
       "<Figure size 640x480 with 1 Axes>"
      ]
     },
     "metadata": {},
     "output_type": "display_data"
    }
   ],
   "source": [
    "prior_corpus = twitter_translated_embeddings_df.description_en.tolist()\n",
    "human_corpus = twitter_translated_embeddings_df[human_indices].description_en.tolist()\n",
    "bot_corpus = twitter_translated_embeddings_df[bot_indices].description_en.tolist()\n",
    "\n",
    "zscores = lodp(human_corpus, bot_corpus, prior_corpus)\n",
    "plot_top_words(zscores)"
   ]
  },
  {
   "cell_type": "markdown",
   "id": "d1360127",
   "metadata": {},
   "source": [
    "Interpreting Z scores\n",
    "- Larger |z|: difference between occurrence of a word in human and bot corpora is more significant\n",
    "- Positive z: Word is more common in human profile descriptions\n",
    "- Negative z: Word is more common in bot profile descriptions"
   ]
  },
  {
   "cell_type": "markdown",
   "id": "38d243f5",
   "metadata": {},
   "source": [
    "## Non-parametric Distributional Test on Text Embeddings"
   ]
  },
  {
   "cell_type": "markdown",
   "id": "b979db29",
   "metadata": {},
   "source": [
    "### 3. Mann-Whitney U Test\n",
    "\n",
    "Null hypothesis (H₀): There is no difference between embedding dimension i for bot and human accounts. \n",
    "\n",
    "Alternative hypothesis (H₁): There is a difference between embedding dimension i for bot and human accounts. "
   ]
  },
  {
   "cell_type": "code",
   "execution_count": 47,
   "id": "257baca0",
   "metadata": {},
   "outputs": [],
   "source": [
    "def transpose_embeddings(embeddings_df):\n",
    "    embeddings = np.vstack(embeddings_df.values)\n",
    "    return embeddings.T\n",
    "\n",
    "def mannwhitneyu_test(human_embeddings_df, bot_embeddings_df):\n",
    "    human_embeddings_T = transpose_embeddings(human_embeddings_df)\n",
    "    bot_embeddings_T = transpose_embeddings(bot_embeddings_df)\n",
    "    dims = human_embeddings_T.shape[0]\n",
    "    \n",
    "    results = {\"dimension\": [], \"statistic\": [], \"p\": []}\n",
    "\n",
    "    for dim in range(dims):\n",
    "        human_sample = human_embeddings_T[dim]\n",
    "        bot_sample = bot_embeddings_T[dim]\n",
    "        statistic, p_value = mannwhitneyu(human_sample, bot_sample, alternative='two-sided')\n",
    "        \n",
    "        results[\"dimension\"].append(dim)\n",
    "        results[\"statistic\"].append(statistic)\n",
    "        results[\"p\"].append(p_value)\n",
    "    \n",
    "    return pd.DataFrame(results).sort_values(by=\"p\")\n",
    "\n",
    "# Convert string embeddings to numeric arrays\n",
    "def parse_embedding_str(s):\n",
    "    if isinstance(s, str):\n",
    "        s = s.replace('[','').replace(']','').replace('\\n',' ')\n",
    "        return np.fromstring(s, sep=' ')\n",
    "    return np.array(s, dtype=float)\n",
    "    \n",
    "twitter_translated_embeddings_df[\"description_en_embeddings\"] = (\n",
    "    twitter_translated_embeddings_df[\"description_en_embeddings\"]\n",
    "    .apply(parse_embedding_str)\n",
    ")\n",
    "\n",
    "\n",
    "human_embeddings_df = twitter_translated_embeddings_df[human_indices].description_en_embeddings\n",
    "bot_embeddings_df = twitter_translated_embeddings_df[bot_indices].description_en_embeddings\n",
    "mannwhitney_df = mannwhitneyu_test(human_embeddings_df, bot_embeddings_df)\n",
    "\n",
    "alpha = 0.05 / mannwhitney_df.shape[0]  # Bonferroni correction\n",
    "significant_dims = mannwhitney_df[mannwhitney_df[\"p\"] <= alpha]"
   ]
  },
  {
   "cell_type": "code",
   "execution_count": 48,
   "id": "b1cc2211",
   "metadata": {},
   "outputs": [
    {
     "data": {
      "text/html": [
       "<div>\n",
       "<style scoped>\n",
       "    .dataframe tbody tr th:only-of-type {\n",
       "        vertical-align: middle;\n",
       "    }\n",
       "\n",
       "    .dataframe tbody tr th {\n",
       "        vertical-align: top;\n",
       "    }\n",
       "\n",
       "    .dataframe thead th {\n",
       "        text-align: right;\n",
       "    }\n",
       "</style>\n",
       "<table border=\"1\" class=\"dataframe\">\n",
       "  <thead>\n",
       "    <tr style=\"text-align: right;\">\n",
       "      <th></th>\n",
       "      <th>dimension</th>\n",
       "      <th>statistic</th>\n",
       "      <th>p</th>\n",
       "    </tr>\n",
       "  </thead>\n",
       "  <tbody>\n",
       "    <tr>\n",
       "      <th>351</th>\n",
       "      <td>351</td>\n",
       "      <td>192476145.5</td>\n",
       "      <td>0.000000e+00</td>\n",
       "    </tr>\n",
       "    <tr>\n",
       "      <th>319</th>\n",
       "      <td>319</td>\n",
       "      <td>111680654.5</td>\n",
       "      <td>0.000000e+00</td>\n",
       "    </tr>\n",
       "    <tr>\n",
       "      <th>99</th>\n",
       "      <td>99</td>\n",
       "      <td>191737976.0</td>\n",
       "      <td>0.000000e+00</td>\n",
       "    </tr>\n",
       "    <tr>\n",
       "      <th>223</th>\n",
       "      <td>223</td>\n",
       "      <td>119065207.5</td>\n",
       "      <td>0.000000e+00</td>\n",
       "    </tr>\n",
       "    <tr>\n",
       "      <th>157</th>\n",
       "      <td>157</td>\n",
       "      <td>188940948.0</td>\n",
       "      <td>2.347876e-266</td>\n",
       "    </tr>\n",
       "    <tr>\n",
       "      <th>...</th>\n",
       "      <td>...</td>\n",
       "      <td>...</td>\n",
       "      <td>...</td>\n",
       "    </tr>\n",
       "    <tr>\n",
       "      <th>8</th>\n",
       "      <td>8</td>\n",
       "      <td>151556468.5</td>\n",
       "      <td>6.672023e-05</td>\n",
       "    </tr>\n",
       "    <tr>\n",
       "      <th>237</th>\n",
       "      <td>237</td>\n",
       "      <td>159180910.0</td>\n",
       "      <td>8.264109e-05</td>\n",
       "    </tr>\n",
       "    <tr>\n",
       "      <th>48</th>\n",
       "      <td>48</td>\n",
       "      <td>159124354.0</td>\n",
       "      <td>1.053929e-04</td>\n",
       "    </tr>\n",
       "    <tr>\n",
       "      <th>241</th>\n",
       "      <td>241</td>\n",
       "      <td>151693936.0</td>\n",
       "      <td>1.206437e-04</td>\n",
       "    </tr>\n",
       "    <tr>\n",
       "      <th>238</th>\n",
       "      <td>238</td>\n",
       "      <td>151709299.0</td>\n",
       "      <td>1.287449e-04</td>\n",
       "    </tr>\n",
       "  </tbody>\n",
       "</table>\n",
       "<p>308 rows × 3 columns</p>\n",
       "</div>"
      ],
      "text/plain": [
       "     dimension    statistic              p\n",
       "351        351  192476145.5   0.000000e+00\n",
       "319        319  111680654.5   0.000000e+00\n",
       "99          99  191737976.0   0.000000e+00\n",
       "223        223  119065207.5   0.000000e+00\n",
       "157        157  188940948.0  2.347876e-266\n",
       "..         ...          ...            ...\n",
       "8            8  151556468.5   6.672023e-05\n",
       "237        237  159180910.0   8.264109e-05\n",
       "48          48  159124354.0   1.053929e-04\n",
       "241        241  151693936.0   1.206437e-04\n",
       "238        238  151709299.0   1.287449e-04\n",
       "\n",
       "[308 rows x 3 columns]"
      ]
     },
     "execution_count": 48,
     "metadata": {},
     "output_type": "execute_result"
    }
   ],
   "source": [
    "significant_dims"
   ]
  },
  {
   "cell_type": "markdown",
   "id": "4e2b5543",
   "metadata": {},
   "source": [
    "### 4. Energy Distance Test\n",
    "Null hypothesis (H₀): The embeddings of human and bot descriptions come from the same distribution in semantic space. There is no significant difference in the overall embedding structure between bots and humans.\n",
    "\n",
    "Alternative hypothesis (H₁): The embeddings of human and bot descriptions are drawn from different distributions. Implies bots and humans use linguistically or semantically distinct patterns in their profile descriptions."
   ]
  },
  {
   "cell_type": "code",
   "execution_count": 49,
   "id": "86e12633",
   "metadata": {},
   "outputs": [
    {
     "name": "stderr",
     "output_type": "stream",
     "text": [
      "c:\\Users\\CelesteN\\Documents\\nus resources\\dsa4263\\project\\venv\\Lib\\site-packages\\hyppo\\tools\\common.py:204: RuntimeWarning: The number of replications is low (under 1000), and p-value calculations may be unreliable. Use the p-value result, with caution!\n",
      "  warnings.warn(msg, RuntimeWarning)\n"
     ]
    },
    {
     "name": "stdout",
     "output_type": "stream",
     "text": [
      "test-statistic: 0.038762654716789316\n",
      "p-value: 8.333137962511277e-129\n"
     ]
    }
   ],
   "source": [
    "# Sampling to reduce compute time\n",
    "size = 5000\n",
    "idx_human = np.random.choice(human_embeddings_df.values.shape[0], size, replace=False)\n",
    "idx_bot = np.random.choice(bot_embeddings_df.values.shape[0], size, replace=False)\n",
    "\n",
    "human_embeddings_sample = np.vstack(human_embeddings_df.iloc[idx_human])\n",
    "bot_embeddings_sample = np.vstack(bot_embeddings_df.iloc[idx_bot])\n",
    "\n",
    "# Energy test\n",
    "stat, pval = Energy().test(human_embeddings_sample, bot_embeddings_sample, reps=100)\n",
    "print(f\"test-statistic: {stat}\")\n",
    "print(f\"p-value: {pval}\")"
   ]
  },
  {
   "cell_type": "markdown",
   "id": "83a3dea2",
   "metadata": {},
   "source": [
    "Based on the Mann-Whitney U Test on each of the embedding dimension, there are 308 / 384 dimensions that differ significantly.\n",
    "\n",
    "Combined with ther results of the energy distance test, which implies that the embeddings of human and bot descriptions are frawn from different distributions, we can conclude that bots and humans use linguistically or semantically distinct patterns in their profile descriptions"
   ]
  },
  {
   "cell_type": "markdown",
   "id": "e4fcafb4",
   "metadata": {},
   "source": [
    "# Hypothesis 3: Human vs Bot usernames have distinct linguistic patterns (dictionary words, names)"
   ]
  },
  {
   "cell_type": "markdown",
   "id": "b4675dc9",
   "metadata": {},
   "source": [
    "## Feature 1: Normalized Entropy\n",
    "\n",
    "Entropy measures the randomness/unpredictability of characters in a username. Higher entropy suggests more random character combinations, while lower entropy suggests structured patterns.\n",
    "\n",
    "**Formula:** \n",
    "- Shannon Entropy: $H(X) = -\\sum_{i=1}^{n} p(x_i) \\log_2 p(x_i)$\n",
    "- Normalized Entropy: $H_{norm} = \\frac{H(X)}{\\log_2(n)}$ where n is the length of the username\n",
    "\n",
    "Normalized entropy ranges from 0 to 1, where:\n",
    "- **0** = completely predictable (all same character)\n",
    "- **1** = maximum randomness (all characters equally likely)\n",
    "\n",
    "**Example:**\n",
    "- \"ajk29f88d\" (length = 9): 0.489\n",
    "- \"john.smith\" (kength = 10): 0.518"
   ]
  },
  {
   "cell_type": "code",
   "execution_count": 28,
   "id": "1a7ae73b",
   "metadata": {},
   "outputs": [],
   "source": [
    "def calculate_entropy(username):\n",
    "    \"\"\"\n",
    "    Calculate the normalized Shannon entropy of a username.\n",
    "    \n",
    "    Higher entropy = more random (typical of bots)\n",
    "    Lower entropy = more structured (typical of humans)\n",
    "    \"\"\"\n",
    "    if not username or len(username) == 0:\n",
    "        return 0\n",
    "    \n",
    "    # Convert to lowercase for consistency\n",
    "    username = username.lower()\n",
    "    \n",
    "    # Count character frequencies\n",
    "    char_counts = Counter(username)\n",
    "    length = len(username)\n",
    "    \n",
    "    # Calculate Shannon entropy\n",
    "    entropy = 0\n",
    "    for count in char_counts.values():\n",
    "        probability = count / length\n",
    "        if probability > 0:\n",
    "            entropy -= probability * np.log2(probability)\n",
    "    \n",
    "    # Normalize by maximum possible entropy (log2 of string length)\n",
    "    max_entropy = np.log2(length) if length > 1 else 1\n",
    "    normalized_entropy = entropy / max_entropy if max_entropy > 0 else 0\n",
    "    \n",
    "    return normalized_entropy"
   ]
  },
  {
   "cell_type": "code",
   "execution_count": 29,
   "id": "3e978259",
   "metadata": {},
   "outputs": [
    {
     "name": "stdout",
     "output_type": "stream",
     "text": [
      "Examples of username entropy:\n",
      "\n",
      "Low entropy (structured) usernames:\n",
      "           screen_name  username_entropy account_type\n",
      "7954     ceeeeceeeeeee          0.167381          bot\n",
      "30392  1111111111111n_          0.179130        human\n",
      "13803     wwswwswwswws          0.256152          bot\n",
      "18703       Bbcccccccb          0.265295          bot\n",
      "33189  ____________CYN          0.265920        human\n",
      "\n",
      "High entropy (random) usernames:\n",
      "         screen_name  username_entropy account_type\n",
      "2064  dorathy_pingel               1.0        human\n",
      "3123  JulieSchwartz1               1.0        human\n",
      "3474  cruzandelights               1.0          bot\n",
      "3652  Inyourhead24_7               1.0        human\n",
      "9372  qjucopmldt1568               1.0        human\n"
     ]
    }
   ],
   "source": [
    "# Apply to all usernames\n",
    "twitter_accounts_df['username_entropy'] = twitter_accounts_df['screen_name'].apply(calculate_entropy)\n",
    "\n",
    "# Display examples\n",
    "print(\"Examples of username entropy:\")\n",
    "print(\"\\nLow entropy (structured) usernames:\")\n",
    "print(twitter_accounts_df.nsmallest(5, 'username_entropy')[['screen_name', 'username_entropy', 'account_type']])\n",
    "print(\"\\nHigh entropy (random) usernames:\")\n",
    "print(twitter_accounts_df.nlargest(5, 'username_entropy')[['screen_name', 'username_entropy', 'account_type']])"
   ]
  },
  {
   "cell_type": "markdown",
   "id": "7cfa8f40",
   "metadata": {},
   "source": [
    "### Hypothesis Test\n",
    "\n",
    "- Null hypothesis (H₀): the distribution of username entropy for bots and humans is the same.\n",
    "- Alternative hypothesis (H₁): bot usernames have a different (likely lower/higher) entropy than human usernames."
   ]
  },
  {
   "cell_type": "code",
   "execution_count": 30,
   "id": "13f1d0dd",
   "metadata": {},
   "outputs": [
    {
     "name": "stderr",
     "output_type": "stream",
     "text": [
      "C:\\Users\\CelesteN\\AppData\\Local\\Temp\\ipykernel_10508\\2159814509.py:5: FutureWarning: \n",
      "\n",
      "Passing `palette` without assigning `hue` is deprecated and will be removed in v0.14.0. Assign the `x` variable to `hue` and set `legend=False` for the same effect.\n",
      "\n",
      "  sns.boxplot(\n"
     ]
    },
    {
     "data": {
      "image/png": "[encoded data removed]",
      "text/plain": [
       "<Figure size 800x500 with 1 Axes>"
      ]
     },
     "metadata": {},
     "output_type": "display_data"
    }
   ],
   "source": [
    "import seaborn as sns\n",
    "import matplotlib.pyplot as plt\n",
    "\n",
    "plt.figure(figsize=(8,5))\n",
    "sns.boxplot(\n",
    "    data=twitter_accounts_df,\n",
    "    x=\"account_type\",\n",
    "    y=\"username_entropy\",\n",
    "    palette=\"Set2\"   # choose any: \"Set2\", \"Paired\", \"Pastel1\", \"coolwarm\", etc.\n",
    ")\n",
    "\n",
    "plt.title(\"Entropy Distribution by Username Type\")\n",
    "plt.show()"
   ]
  },
  {
   "cell_type": "markdown",
   "id": "3e020745",
   "metadata": {},
   "source": [
    "Since entropy values are continuous and non-normal in most username datasets, use a non-parametric test like the Mann–Whitney U test."
   ]
  },
  {
   "cell_type": "code",
   "execution_count": 31,
   "id": "189a0f08",
   "metadata": {},
   "outputs": [
    {
     "name": "stdout",
     "output_type": "stream",
     "text": [
      "U statistic = 162216513.500, p-value = 0.0000\n"
     ]
    }
   ],
   "source": [
    "# Split into groups\n",
    "bots = twitter_accounts_df.loc[twitter_accounts_df[\"account_type\"]==\"bot\", \"username_entropy\"]\n",
    "humans = twitter_accounts_df.loc[twitter_accounts_df[\"account_type\"]==\"human\", \"username_entropy\"]\n",
    "\n",
    "# two-tailed test (alternative = 'two-sided')\n",
    "stat, p_value = mannwhitneyu(bots, humans, alternative=\"two-sided\")\n",
    "print(f\"U statistic = {stat:.3f}, p-value = {p_value:.4f}\")"
   ]
  },
  {
   "cell_type": "code",
   "execution_count": 32,
   "id": "b268cb8f",
   "metadata": {},
   "outputs": [
    {
     "name": "stdout",
     "output_type": "stream",
     "text": [
      "Median entropy (bots): 0.8752746979566217\n",
      "Median entropy (humans): 0.863489053434765\n"
     ]
    }
   ],
   "source": [
    "print(\"Median entropy (bots):\", bots.median())\n",
    "print(\"Median entropy (humans):\", humans.median())\n"
   ]
  },
  {
   "cell_type": "code",
   "execution_count": 33,
   "id": "d3033b74",
   "metadata": {},
   "outputs": [
    {
     "name": "stdout",
     "output_type": "stream",
     "text": [
      "Rank-biserial correlation (r_rb): -0.044\n",
      "Cliff's delta: 0.044\n"
     ]
    }
   ],
   "source": [
    "n1, n2 = len(bots), len(humans)\n",
    "r_rb = 1 - (2 * stat) / (n1 * n2)\n",
    "delta = (2 * stat) / (n1 * n2) - 1\n",
    "print(f\"Rank-biserial correlation (r_rb): {r_rb:.3f}\")\n",
    "print(f\"Cliff's delta: {delta:.3f}\")\n"
   ]
  },
  {
   "cell_type": "markdown",
   "id": "d3e70d48",
   "metadata": {},
   "source": [
    "A Mann–Whitney U test revealed a statistically significant difference in username entropy between bot and human accounts (U = 162,216,513.5, p < 0.001).\n",
    "However, the effect size was minimal (Cliff’s δ = 0.044, r = 0.044) with medians differing only be 0.01, indicating that although bots and humans differ slightly, the practical magnitude of this difference is very small.\n",
    "In other words, both groups show broadly similar levels of randomness in username structure."
   ]
  },
  {
   "cell_type": "markdown",
   "id": "c6357097",
   "metadata": {},
   "source": [
    "## Feature 2: Valid Word Ratio\n",
    "\n",
    "Measures what proportion of the username consists of recognizable dictionary words or common name patterns. Humans tend to use real words and names, while bots use random character combinations.\n",
    "\n",
    "**Approach:**\n",
    "1. Split username by common delimiters (_, numbers, case changes)\n",
    "2. Check each segment against:\n",
    "   - Common English words (using a basic dictionary)\n",
    "   - Common name patterns\n",
    "3. Calculate ratio of valid segments to total segments"
   ]
  },
  {
   "cell_type": "code",
   "execution_count": 34,
   "id": "621f591a",
   "metadata": {},
   "outputs": [
    {
     "name": "stdout",
     "output_type": "stream",
     "text": [
      "Examples of valid word ratio:\n",
      "\n",
      "Low ratio (random) usernames:\n",
      "         screen_name  valid_word_ratio account_type\n",
      "47            mu2060               0.0          bot\n",
      "54            tlc614               0.0          bot\n",
      "75   poygxvwsrtvrp21               0.0          bot\n",
      "88          SSDGM666               0.0        human\n",
      "89    Odiotuttigioia               0.0          bot\n",
      "113            qty_3               0.0          bot\n",
      "120          nai8478               0.0        human\n",
      "121          eye__vy               0.0        human\n",
      "127         feIIati0               0.0        human\n",
      "139           EA9625               0.0        human\n",
      "\n",
      "High ratio (word-based) usernames:\n",
      "         screen_name  valid_word_ratio account_type\n",
      "456     JosephMorgan               1.0        human\n",
      "1058  787_to_the_203               1.0          bot\n",
      "1379   james_riley12               1.0        human\n",
      "1908    Amanda122986               1.0          bot\n",
      "2128       KingJames               1.0        human\n",
      "2231          Alex10               1.0        human\n",
      "2666       king15054               1.0          bot\n",
      "3552         live955               1.0        human\n",
      "4191      daniel5258               1.0          bot\n",
      "4277           7The7               1.0          bot\n"
     ]
    }
   ],
   "source": [
    "# Build a basic dictionary of common English words and names\n",
    "# In practice, you could use a more comprehensive dictionary like NLTK's words corpus\n",
    "common_words = {\n",
    "    'the', 'be', 'to', 'of', 'and', 'in', 'that', 'have', 'it', 'for', 'not', 'on', 'with', 'he', 'as', 'you',\n",
    "    'do', 'at', 'this', 'but', 'his', 'by', 'from', 'they', 'we', 'say', 'her', 'she', 'or', 'an', 'will', 'my',\n",
    "    'one', 'all', 'would', 'there', 'their', 'what', 'so', 'up', 'out', 'if', 'about', 'who', 'get', 'which',\n",
    "    'go', 'me', 'when', 'make', 'can', 'like', 'time', 'no', 'just', 'him', 'know', 'take', 'people', 'into',\n",
    "    'year', 'your', 'good', 'some', 'could', 'them', 'see', 'other', 'than', 'then', 'now', 'look', 'only',\n",
    "    'come', 'its', 'over', 'think', 'also', 'back', 'after', 'use', 'two', 'how', 'our', 'work', 'first', 'well',\n",
    "    'way', 'even', 'new', 'want', 'because', 'any', 'these', 'give', 'day', 'most', 'us',\n",
    "    # Twitter-specific\n",
    "    'tweet', 'twitter', 'follow', 'real', 'official', 'news', 'info', 'daily', 'update', 'live', 'world',\n",
    "    # Common username components\n",
    "    'best', 'top', 'super', 'big', 'little', 'young', 'old', 'true', 'real', 'the', 'love', 'life', 'art',\n",
    "    'music', 'photo', 'game', 'sport', 'tech', 'digital', 'online', 'web', 'net', 'blog', 'fan', 'pro',\n",
    "    'king', 'queen', 'master', 'lord', 'lady', 'sir', 'mr', 'mrs', 'miss', 'dr', 'prof'\n",
    "}\n",
    "\n",
    "common_names = {\n",
    "    'john', 'mary', 'james', 'robert', 'michael', 'william', 'david', 'richard', 'joseph', 'thomas',\n",
    "    'charles', 'christopher', 'daniel', 'matthew', 'anthony', 'donald', 'mark', 'paul', 'steven', 'andrew',\n",
    "    'sarah', 'jennifer', 'lisa', 'karen', 'nancy', 'betty', 'helen', 'sandra', 'donna', 'carol',\n",
    "    'emily', 'jessica', 'ashley', 'amanda', 'melissa', 'deborah', 'stephanie', 'rebecca', 'laura', 'sharon',\n",
    "    'alex', 'chris', 'sam', 'pat', 'taylor', 'jordan', 'morgan', 'casey', 'jamie', 'riley'\n",
    "}\n",
    "\n",
    "def split_username(username):\n",
    "    \"\"\"\n",
    "    Split username into segments by underscores, numbers, and camelCase.\n",
    "    \"\"\"\n",
    "    # Replace underscores with spaces\n",
    "    username = username.replace('_', ' ')\n",
    "    \n",
    "    # Split on numbers\n",
    "    username = re.sub(r'(\\d+)', r' \\1 ', username)\n",
    "    \n",
    "    # Split camelCase (insert space before uppercase letters)\n",
    "    username = re.sub(r'([a-z])([A-Z])', r'\\1 \\2', username)\n",
    "    \n",
    "    # Split into segments and filter out empty strings and numbers\n",
    "    segments = [seg.lower().strip() for seg in username.split() if seg.strip() and not seg.isdigit()]\n",
    "    \n",
    "    return segments\n",
    "\n",
    "def calculate_valid_word_ratio(username):\n",
    "    \"\"\"\n",
    "    Calculate the ratio of valid words/names in the username.\n",
    "    \n",
    "    Higher ratio = more real words (typical of humans)\n",
    "    Lower ratio = more random strings (typical of bots)\n",
    "    \"\"\"\n",
    "    if not username or len(username) == 0:\n",
    "        return 0\n",
    "    \n",
    "    segments = split_username(username)\n",
    "    \n",
    "    if len(segments) == 0:\n",
    "        return 0\n",
    "    \n",
    "    valid_count = 0\n",
    "    for segment in segments:\n",
    "        # Check if segment is a common word or name\n",
    "        if segment in common_words or segment in common_names:\n",
    "            valid_count += 1\n",
    "        # Check if it's at least 3 characters and looks like a word (has vowels)\n",
    "        elif len(segment) >= 3 and any(c in 'aeiou' for c in segment):\n",
    "            # Give partial credit for word-like strings\n",
    "            vowel_ratio = sum(1 for c in segment if c in 'aeiou') / len(segment)\n",
    "            if 0.2 <= vowel_ratio <= 0.6:  # Reasonable vowel ratio\n",
    "                valid_count += 0.5\n",
    "    \n",
    "    return valid_count / len(segments)\n",
    "\n",
    "# Apply to all usernames\n",
    "twitter_accounts_df['valid_word_ratio'] = twitter_accounts_df['screen_name'].apply(calculate_valid_word_ratio)\n",
    "\n",
    "# Display examples\n",
    "print(\"Examples of valid word ratio:\")\n",
    "print(\"\\nLow ratio (random) usernames:\")\n",
    "print(twitter_accounts_df.nsmallest(10, 'valid_word_ratio')[['screen_name', 'valid_word_ratio', 'account_type']])\n",
    "print(\"\\nHigh ratio (word-based) usernames:\")\n",
    "print(twitter_accounts_df.nlargest(10, 'valid_word_ratio')[['screen_name', 'valid_word_ratio', 'account_type']])"
   ]
  },
  {
   "cell_type": "code",
   "execution_count": 35,
   "id": "d2fb9936",
   "metadata": {},
   "outputs": [
    {
     "name": "stdout",
     "output_type": "stream",
     "text": [
      "U statistic = 166089135.500, p-value = 0.0000\n",
      "Median valid word ratio (bots): 0.5\n",
      "Median valid word ratio (humans): 0.5\n"
     ]
    }
   ],
   "source": [
    "# Split into groups\n",
    "bots = twitter_accounts_df.loc[twitter_accounts_df[\"account_type\"] == \"bot\", \"valid_word_ratio\"]\n",
    "humans = twitter_accounts_df.loc[twitter_accounts_df[\"account_type\"] == \"human\", \"valid_word_ratio\"]\n",
    "\n",
    "# one-tailed test: H1 = humans > bots\n",
    "stat, p_value = mannwhitneyu(humans, bots, alternative=\"greater\")\n",
    "print(f\"U statistic = {stat:.3f}, p-value = {p_value:.4f}\")\n",
    "\n",
    "median_bots = bots.median()\n",
    "median_humans = humans.median()\n",
    "print(\"Median valid word ratio (bots):\", median_bots)\n",
    "print(\"Median valid word ratio (humans):\", median_humans)"
   ]
  },
  {
   "cell_type": "code",
   "execution_count": 36,
   "id": "e07438c7",
   "metadata": {},
   "outputs": [
    {
     "name": "stdout",
     "output_type": "stream",
     "text": [
      "Rank-biserial correlation (r_rb): -0.069\n",
      "Cliff's delta: 0.069\n"
     ]
    }
   ],
   "source": [
    "n1, n2 = len(bots), len(humans)\n",
    "r_rb = 1 - (2 * stat) / (n1 * n2)\n",
    "delta = (2 * stat) / (n1 * n2) - 1\n",
    "print(f\"Rank-biserial correlation (r_rb): {r_rb:.3f}\")\n",
    "print(f\"Cliff's delta: {delta:.3f}\")"
   ]
  },
  {
   "cell_type": "markdown",
   "id": "b6710f98",
   "metadata": {},
   "source": [
    "A Mann–Whitney U test revealed a statistically significant difference in valid word ratio between bot and human accounts.\n",
    "However, the effect size was minimal (Cliff’s δ = 0.069, r = 0.069) with medians being the same, indicating that although bots and humans differ slightly, the practical magnitude of this difference is very small."
   ]
  },
  {
   "cell_type": "markdown",
   "id": "99139670",
   "metadata": {},
   "source": [
    "## Feature 3: Max Run Length\n",
    "\n",
    "Bots sometimes generate usernames with zero padding or repeated symbols (bot_0000123, user1111),\n",
    "whereas humans rarely use long identical runs."
   ]
  },
  {
   "cell_type": "code",
   "execution_count": 37,
   "id": "d16307bc",
   "metadata": {},
   "outputs": [],
   "source": [
    "def max_run_length(s: str) -> int:\n",
    "    \"\"\"Return the length of the longest consecutive repeated character run.\"\"\"\n",
    "    if not s:\n",
    "        return 0\n",
    "    runs = re.findall(r\"(.)\\1*\", s)\n",
    "    return max(len(run) for run in runs)\n",
    "\n",
    "twitter_accounts_df[\"max_run_length\"] = twitter_accounts_df[\"screen_name\"].apply(max_run_length)"
   ]
  },
  {
   "cell_type": "code",
   "execution_count": 38,
   "id": "5578c413",
   "metadata": {},
   "outputs": [
    {
     "name": "stderr",
     "output_type": "stream",
     "text": [
      "C:\\Users\\CelesteN\\AppData\\Local\\Temp\\ipykernel_10508\\1797823133.py:1: FutureWarning: \n",
      "\n",
      "Passing `palette` without assigning `hue` is deprecated and will be removed in v0.14.0. Assign the `x` variable to `hue` and set `legend=False` for the same effect.\n",
      "\n",
      "  sns.boxplot(\n"
     ]
    },
    {
     "data": {
      "image/png": "[encoded data removed]",
      "text/plain": [
       "<Figure size 640x480 with 1 Axes>"
      ]
     },
     "metadata": {},
     "output_type": "display_data"
    }
   ],
   "source": [
    "sns.boxplot(\n",
    "    data=twitter_accounts_df,\n",
    "    x=\"account_type\",\n",
    "    y=\"max_run_length\",\n",
    "    palette=\"Set2\"\n",
    ")\n",
    "plt.title(\"Max Run Length by Account Type\")\n",
    "plt.show()\n"
   ]
  },
  {
   "cell_type": "code",
   "execution_count": 39,
   "id": "0547c924",
   "metadata": {},
   "outputs": [
    {
     "name": "stdout",
     "output_type": "stream",
     "text": [
      "U=155393262.500, p=1.0000e+00\n",
      "Median run length (bots): 1.0\n",
      "Median run length (humans): 1.0\n"
     ]
    }
   ],
   "source": [
    "bots = twitter_accounts_df.loc[twitter_accounts_df[\"account_type\"]==\"bot\", \"max_run_length\"]\n",
    "humans = twitter_accounts_df.loc[twitter_accounts_df[\"account_type\"]==\"human\", \"max_run_length\"]\n",
    "\n",
    "stat, p = mannwhitneyu(bots, humans, alternative=\"two-sided\")\n",
    "print(f\"U={stat:.3f}, p={p:.4e}\")\n",
    "print(\"Median run length (bots):\", bots.median())\n",
    "print(\"Median run length (humans):\", humans.median())"
   ]
  },
  {
   "cell_type": "markdown",
   "id": "313b33d0",
   "metadata": {},
   "source": [
    "A Mann–Whitney U test revealed a non statistically significant difference in max run length between bot and human accounts."
   ]
  },
  {
   "cell_type": "markdown",
   "id": "7a01915e",
   "metadata": {},
   "source": [
    "## Feature 4: Keyboard-Pattern Flags\n",
    "\n",
    "Bot usernames often contain simple sequential patterns like\n",
    "\"qwerty\", \"asdf\", \"123\", \"abc\", \"abcd\", etc.\n"
   ]
  },
  {
   "cell_type": "code",
   "execution_count": 40,
   "id": "e07d57ad",
   "metadata": {},
   "outputs": [],
   "source": [
    "def keyboard_pattern_flag(s: str) -> int:\n",
    "    \"\"\"Return 1 if username contains common sequential keyboard or digit patterns.\"\"\"\n",
    "    if not s:\n",
    "        return 0\n",
    "    s_lower = s.lower()\n",
    "\n",
    "    common_patterns = [\n",
    "        \"qwerty\", \"asdf\", \"zxcv\", \"123\", \"234\", \"345\", \"456\", \"567\", \"678\", \"789\",\n",
    "        \"abc\", \"abcd\", \"xyz\", \"pass\", \"test\", \"user\"\n",
    "    ]\n",
    "    for p in common_patterns:\n",
    "        if p in s_lower:\n",
    "            return 1\n",
    "    return 0\n",
    "\n",
    "twitter_accounts_df[\"keyboard_pattern_flag\"] = twitter_accounts_df[\"screen_name\"].apply(keyboard_pattern_flag)\n"
   ]
  },
  {
   "cell_type": "code",
   "execution_count": 41,
   "id": "cf0cffec",
   "metadata": {},
   "outputs": [
    {
     "name": "stdout",
     "output_type": "stream",
     "text": [
      "  account_type  pattern_rate\n",
      "0          bot      0.007565\n",
      "1        human      0.003918\n"
     ]
    }
   ],
   "source": [
    "pattern_rate = (\n",
    "    twitter_accounts_df.groupby(\"account_type\")[\"keyboard_pattern_flag\"]\n",
    "    .mean()\n",
    "    .reset_index(name=\"pattern_rate\")\n",
    ")\n",
    "print(pattern_rate)\n"
   ]
  },
  {
   "cell_type": "markdown",
   "id": "d6eaa090",
   "metadata": {},
   "source": [
    "Test with chi-square or Fisher’s exact test (since binary):"
   ]
  },
  {
   "cell_type": "code",
   "execution_count": 42,
   "id": "0c1cfb65",
   "metadata": {},
   "outputs": [
    {
     "name": "stdout",
     "output_type": "stream",
     "text": [
      "keyboard_pattern_flag      0   1\n",
      "account_type                    \n",
      "bot                    12331  94\n",
      "human                  24915  98\n",
      "Chi-square=20.937, p-value=4.7475e-06\n"
     ]
    }
   ],
   "source": [
    "from scipy.stats import chi2_contingency\n",
    "\n",
    "cont_table = pd.crosstab(twitter_accounts_df[\"account_type\"],\n",
    "                         twitter_accounts_df[\"keyboard_pattern_flag\"])\n",
    "chi2, p, dof, exp = chi2_contingency(cont_table)\n",
    "print(cont_table)\n",
    "print(f\"Chi-square={chi2:.3f}, p-value={p:.4e}\")\n"
   ]
  },
  {
   "cell_type": "markdown",
   "id": "6fde98f5",
   "metadata": {},
   "source": [
    "A chi-square test of independence showed a significant relationship between account type and keyboard-pattern usage, χ²(1, N = 37 438) = 20.94, p < 0.001, Cramér’s V = 0.02.\n",
    "Bots were roughly twice as likely as humans to include sequential keyboard or digit patterns (0.76 % vs 0.39 %), suggesting that such patterns, while uncommon overall, are a mild indicator of automated naming behavior."
   ]
  },
  {
   "cell_type": "markdown",
   "id": "61f7f85e",
   "metadata": {},
   "source": [
    "## Additional Analysis of username structure"
   ]
  },
  {
   "cell_type": "code",
   "execution_count": 43,
   "id": "2acc39bc",
   "metadata": {},
   "outputs": [
    {
     "name": "stdout",
     "output_type": "stream",
     "text": [
      "================================================================================\n",
      "ADDITIONAL USERNAME CHARACTERISTICS\n",
      "================================================================================\n",
      "\n",
      "USERNAME LENGTH:\n",
      "--------------------------------------------------------------------------------\n",
      "                   mean       std   50%\n",
      "account_type                           \n",
      "bot           11.139638  2.701248  11.0\n",
      "human         11.095230  2.611676  11.0\n",
      "\n",
      "DIGIT RATIO:\n",
      "--------------------------------------------------------------------------------\n",
      "                  mean       std  50%\n",
      "account_type                         \n",
      "bot           0.097801  0.164756  0.0\n",
      "human         0.048131  0.111557  0.0\n",
      "\n",
      "NUM UNDERSCORES:\n",
      "--------------------------------------------------------------------------------\n",
      "                  mean       std  50%\n",
      "account_type                         \n",
      "bot           0.193481  0.493916  0.0\n",
      "human         0.185983  0.471938  0.0\n",
      "\n",
      "CONSONANT CLUSTERS:\n",
      "--------------------------------------------------------------------------------\n",
      "                  mean       std  50%\n",
      "account_type                         \n",
      "bot           0.512837  0.647087  0.0\n",
      "human         0.523248  0.636894  0.0\n",
      "\n",
      "\n",
      "PROPORTION WITH NUMBERS:\n",
      "--------------------------------------------------------------------------------\n",
      "has_numbers      False     True \n",
      "account_type                    \n",
      "bot           0.623823  0.376177\n",
      "human         0.787830  0.212170\n",
      "\n",
      "\n",
      "NORMALIZED/RATIO FEATURES:\n",
      "--------------------------------------------------------------------------------\n",
      "\n",
      "USERNAME LENGTH NORMALIZED:\n",
      "--------------------------------------------------------------------------------\n",
      "                  mean       std       50%\n",
      "account_type                              \n",
      "bot           0.703049  0.207788  0.692308\n",
      "human         0.699633  0.200898  0.692308\n",
      "\n",
      "NUM UNDERSCORES NORMALIZED:\n",
      "--------------------------------------------------------------------------------\n",
      "                  mean       std  50%\n",
      "account_type                         \n",
      "bot           0.016123  0.041160  0.0\n",
      "human         0.015499  0.039328  0.0\n"
     ]
    }
   ],
   "source": [
    "# Calculate additional features\n",
    "twitter_accounts_df['username_length'] = twitter_accounts_df['screen_name'].str.len()\n",
    "twitter_accounts_df['num_digits'] = twitter_accounts_df['screen_name'].apply(lambda x: sum(c.isdigit() for c in x))\n",
    "twitter_accounts_df['num_underscores'] = twitter_accounts_df['screen_name'].str.count('_')\n",
    "twitter_accounts_df['has_numbers'] = twitter_accounts_df['num_digits'] > 0\n",
    "twitter_accounts_df['num_uppercase'] = twitter_accounts_df['screen_name'].apply(lambda x: sum(c.isupper() for c in x))\n",
    "twitter_accounts_df['consonant_clusters'] = twitter_accounts_df['screen_name'].apply(\n",
    "    lambda x: len(re.findall(r'[bcdfghjklmnpqrstvwxyz]{3,}', x.lower()))\n",
    ")\n",
    "\n",
    "# Calculate ratios (already normalized to 0-1 as they are proportions)\n",
    "twitter_accounts_df['digit_ratio'] = twitter_accounts_df['num_digits'] / twitter_accounts_df['username_length']\n",
    "twitter_accounts_df['uppercase_ratio'] = twitter_accounts_df['num_uppercase'] / twitter_accounts_df['username_length']\n",
    "twitter_accounts_df['consonant_cluster_ratio'] = twitter_accounts_df['consonant_clusters'] / twitter_accounts_df['username_length']\n",
    "\n",
    "# Normalize additional features to 0-1 scale for comparison\n",
    "from sklearn.preprocessing import MinMaxScaler\n",
    "scaler_length = MinMaxScaler()\n",
    "scaler_underscores = MinMaxScaler()\n",
    "\n",
    "twitter_accounts_df['username_length_normalized'] = scaler_length.fit_transform(twitter_accounts_df[['username_length']])\n",
    "twitter_accounts_df['num_underscores_normalized'] = scaler_underscores.fit_transform(twitter_accounts_df[['num_underscores']])\n",
    "\n",
    "# Summary by account type\n",
    "print(\"=\" * 80)\n",
    "print(\"ADDITIONAL USERNAME CHARACTERISTICS\")\n",
    "print(\"=\" * 80)\n",
    "\n",
    "for feature in ['username_length', 'digit_ratio', 'num_underscores', 'consonant_clusters']:\n",
    "    print(f\"\\n{feature.upper().replace('_', ' ')}:\")\n",
    "    print(\"-\" * 80)\n",
    "    summary = twitter_accounts_df.groupby('account_type')[feature].describe()[['mean', 'std', '50%']]\n",
    "    print(summary)\n",
    "\n",
    "# Proportion with numbers\n",
    "print(\"\\n\\nPROPORTION WITH NUMBERS:\")\n",
    "print(\"-\" * 80)\n",
    "print(twitter_accounts_df.groupby('account_type')['has_numbers'].value_counts(normalize=True).unstack())\n",
    "\n",
    "print(\"\\n\\nNORMALIZED/RATIO FEATURES:\")\n",
    "print(\"-\" * 80)\n",
    "for feature in ['username_length_normalized', \"num_underscores_normalized\" ]:\n",
    "    print(f\"\\n{feature.upper().replace('_', ' ')}:\")\n",
    "    print(\"-\" * 80)\n",
    "    summary = twitter_accounts_df.groupby('account_type')[feature].describe()[['mean', 'std', '50%']]\n",
    "    print(summary)"
   ]
  },
  {
   "cell_type": "markdown",
   "id": "1ce03883",
   "metadata": {},
   "source": [
    "## Username Feature Profile\n",
    "\n",
    "This radar chart compares the average username characteristics between human and bot accounts using normalized features:\n",
    "- Entropy (randomness of characters)\n",
    "- Valid Word Ratio (dictionary/name components)\n",
    "- Normalized Username Length\n",
    "- Digit Ratio\n",
    "- Uppercase Ratio\n",
    "- Consonant Cluster Ratio\n",
    "- Normalized Underscores Count\n",
    "- Max Run Length (normalized by username length)\n",
    "- Keyboard Pattern Flag (rate of usernames with sequential patterns)"
   ]
  },
  {
   "cell_type": "code",
   "execution_count": 44,
   "id": "ba028877",
   "metadata": {},
   "outputs": [
    {
     "ename": "ValueError",
     "evalue": "Missing required columns for radar chart: ['max_run_length_ratio'].\nPlease ensure all features are calculated.",
     "output_type": "error",
     "traceback": [
      "\u001b[31m---------------------------------------------------------------------------\u001b[39m",
      "\u001b[31mValueError\u001b[39m                                Traceback (most recent call last)",
      "\u001b[36mCell\u001b[39m\u001b[36m \u001b[39m\u001b[32mIn[44]\u001b[39m\u001b[32m, line 24\u001b[39m\n\u001b[32m     22\u001b[39m missing = [col \u001b[38;5;28;01mfor\u001b[39;00m col, _ \u001b[38;5;129;01min\u001b[39;00m radar_features \u001b[38;5;28;01mif\u001b[39;00m col \u001b[38;5;129;01mnot\u001b[39;00m \u001b[38;5;129;01min\u001b[39;00m twitter_accounts_df.columns]\n\u001b[32m     23\u001b[39m \u001b[38;5;28;01mif\u001b[39;00m missing:\n\u001b[32m---> \u001b[39m\u001b[32m24\u001b[39m     \u001b[38;5;28;01mraise\u001b[39;00m \u001b[38;5;167;01mValueError\u001b[39;00m(\u001b[33mf\u001b[39m\u001b[33m\"\u001b[39m\u001b[33mMissing required columns for radar chart: \u001b[39m\u001b[38;5;132;01m{\u001b[39;00mmissing\u001b[38;5;132;01m}\u001b[39;00m\u001b[33m.\u001b[39m\u001b[38;5;130;01m\\n\u001b[39;00m\u001b[33m\"\u001b[39m\n\u001b[32m     25\u001b[39m                      \u001b[33m\"\u001b[39m\u001b[33mPlease ensure all features are calculated.\u001b[39m\u001b[33m\"\u001b[39m)\n\u001b[32m     27\u001b[39m \u001b[38;5;66;03m# Compute mean per feature for each account type\u001b[39;00m\n\u001b[32m     28\u001b[39m human_means = []\n",
      "\u001b[31mValueError\u001b[39m: Missing required columns for radar chart: ['max_run_length_ratio'].\nPlease ensure all features are calculated."
     ]
    }
   ],
   "source": [
    "## Conclusion: No Meaningful Difference in Username Structure\n",
    "from math import pi\n",
    "import numpy as np\n",
    "import pandas as pd\n",
    "import matplotlib.pyplot as plt\n",
    "\n",
    "\n",
    "# Define features to compare (all on ~0-1 scale or proportions)\n",
    "radar_features = [\n",
    "    ('username_entropy', 'Entropy'),\n",
    "    ('valid_word_ratio', 'Valid Word\\nRatio'),\n",
    "    ('username_length_normalized', 'Length\\n(Norm)'),\n",
    "    ('digit_ratio', 'Digit\\nRatio'),\n",
    "    ('uppercase_ratio', 'Uppercase\\nRatio'),\n",
    "    ('consonant_cluster_ratio', 'Consonant\\nCluster'),\n",
    "    ('num_underscores_normalized', 'Underscores\\n(Norm)'),\n",
    "    ('max_run_length_ratio', 'Max Run\\nLength (Norm)'),\n",
    "    ('keyboard_pattern_flag', 'Keyboard\\nPattern Rate')\n",
    "]\n",
    "\n",
    "# Check required columns\n",
    "missing = [col for col, _ in radar_features if col not in twitter_accounts_df.columns]\n",
    "if missing:\n",
    "    raise ValueError(f\"Missing required columns for radar chart: {missing}.\\n\"\n",
    "                     \"Please ensure all features are calculated.\")\n",
    "\n",
    "# Compute mean per feature for each account type\n",
    "human_means = []\n",
    "bot_means = []\n",
    "labels = []\n",
    "for col, label in radar_features:\n",
    "    vals_h = twitter_accounts_df.loc[twitter_accounts_df['account_type']=='human', col].astype(float)\n",
    "    vals_b = twitter_accounts_df.loc[twitter_accounts_df['account_type']=='bot', col].astype(float)\n",
    "    # Clip to [0, 1] safety for ratios/norms (keyboard flag already 0/1)\n",
    "    vals_h = vals_h.clip(0, 1)\n",
    "    vals_b = vals_b.clip(0, 1)\n",
    "    human_means.append(vals_h.mean())\n",
    "    bot_means.append(vals_b.mean())\n",
    "    labels.append(label)\n",
    "\n",
    "# Radar setup\n",
    "num_vars = len(labels)\n",
    "angles = [n / float(num_vars) * 2 * pi for n in range(num_vars)]\n",
    "angles += angles[:1]\n",
    "\n",
    "human_vals = human_means + human_means[:1]\n",
    "bot_vals = bot_means + bot_means[:1]\n",
    "\n",
    "fig, ax = plt.subplots(figsize=(10, 10), subplot_kw=dict(projection='polar'))\n",
    "\n",
    "# Polar settings\n",
    "ax.set_theta_offset(pi / 2)\n",
    "ax.set_theta_direction(-1)\n",
    "ax.set_xticks(angles[:-1])\n",
    "ax.set_xticklabels(labels, fontsize=10)\n",
    "ax.set_ylim(0, 1)\n",
    "ax.set_yticks([0.2, 0.4, 0.6, 0.8])\n",
    "ax.set_yticklabels(['0.2', '0.4', '0.6', '0.8'], fontsize=9)\n",
    "ax.grid(True, alpha=0.3)\n",
    "\n",
    "# Plot\n",
    "ax.plot(angles, human_vals, 'o-', linewidth=2, label='Human', color='tab:blue', markersize=6)\n",
    "ax.fill(angles, human_vals, alpha=0.25, color='tab:blue')\n",
    "\n",
    "ax.plot(angles, bot_vals, 'o-', linewidth=2, label='Bot', color='tab:red', markersize=6)\n",
    "ax.fill(angles, bot_vals, alpha=0.25, color='tab:red')\n",
    "\n",
    "ax.legend(loc='upper right', bbox_to_anchor=(1.25, 1.15), fontsize=11)\n",
    "ax.set_title('Username Feature Profile: Human vs Bot', fontsize=14, fontweight='bold', pad=20)\n",
    "\n",
    "plt.tight_layout()\n",
    "plt.show()"
   ]
  },
  {
   "cell_type": "markdown",
   "id": "97a6979a",
   "metadata": {},
   "source": [
    "The radar chart shows that human and bot username profiles are nearly overlapping across all nine features (entropy, valid word ratio, normalized length, digit ratio, uppercase ratio, consonant cluster ratio, normalized underscores, normalized max run length, and keyboard pattern rate). Any visible gaps are minimal and within expected variability, indicating no practically meaningful difference in username structure between the two groups in this dataset, this behaviour is also corroborate by statistical tests for effect size in the above sections. As such, username features alone are insufficient to distinguish bots from humans and should be combined with stronger behavioral or content-based signals for reliable classification."
   ]
  },
  {
   "cell_type": "markdown",
   "id": "09961326",
   "metadata": {},
   "source": [
    "# Conclusion"
   ]
  },
  {
   "cell_type": "markdown",
   "id": "e6f15c4e",
   "metadata": {},
   "source": [
    "The id column is a unique identifier for each user and does not contain predictive information. It will be dropped before further analysis and modeling."
   ]
  },
  {
   "cell_type": "code",
   "execution_count": null,
   "id": "9fb0558f",
   "metadata": {},
   "outputs": [
    {
     "data": {
      "text/html": [
       "<div>\n",
       "<style scoped>\n",
       "    .dataframe tbody tr th:only-of-type {\n",
       "        vertical-align: middle;\n",
       "    }\n",
       "\n",
       "    .dataframe tbody tr th {\n",
       "        vertical-align: top;\n",
       "    }\n",
       "\n",
       "    .dataframe thead th {\n",
       "        text-align: right;\n",
       "    }\n",
       "</style>\n",
       "<table border=\"1\" class=\"dataframe\">\n",
       "  <thead>\n",
       "    <tr style=\"text-align: right;\">\n",
       "      <th></th>\n",
       "      <th>created_at</th>\n",
       "      <th>default_profile</th>\n",
       "      <th>default_profile_image</th>\n",
       "      <th>description</th>\n",
       "      <th>favourites_count</th>\n",
       "      <th>followers_count</th>\n",
       "      <th>friends_count</th>\n",
       "      <th>geo_enabled</th>\n",
       "      <th>id</th>\n",
       "      <th>lang</th>\n",
       "      <th>...</th>\n",
       "      <th>length</th>\n",
       "      <th>word_count</th>\n",
       "      <th>mean_word_length</th>\n",
       "      <th>mean_sent_length</th>\n",
       "      <th>hashtag_count</th>\n",
       "      <th>handle_count</th>\n",
       "      <th>url_count</th>\n",
       "      <th>description_language</th>\n",
       "      <th>description_en</th>\n",
       "      <th>description_en_embeddings</th>\n",
       "    </tr>\n",
       "  </thead>\n",
       "  <tbody>\n",
       "    <tr>\n",
       "      <th>0</th>\n",
       "      <td>2016-10-15 21:32:11</td>\n",
       "      <td>False</td>\n",
       "      <td>False</td>\n",
       "      <td>Blame @xaiax, Inspired by @MakingInvisible, us...</td>\n",
       "      <td>4</td>\n",
       "      <td>1589</td>\n",
       "      <td>4</td>\n",
       "      <td>False</td>\n",
       "      <td>787405734442958848</td>\n",
       "      <td>en</td>\n",
       "      <td>...</td>\n",
       "      <td>129.0</td>\n",
       "      <td>18</td>\n",
       "      <td>6.222222</td>\n",
       "      <td>64.0</td>\n",
       "      <td>0</td>\n",
       "      <td>2</td>\n",
       "      <td>0</td>\n",
       "      <td>eng_Latn</td>\n",
       "      <td>blame xaiax inspired makinginvisible using cmu...</td>\n",
       "      <td>[-6.27098307e-02 -5.99579886e-02 -1.00451875e-...</td>\n",
       "    </tr>\n",
       "    <tr>\n",
       "      <th>1</th>\n",
       "      <td>2016-11-09 05:01:30</td>\n",
       "      <td>False</td>\n",
       "      <td>False</td>\n",
       "      <td>Photographing the American West since 1980. I ...</td>\n",
       "      <td>536</td>\n",
       "      <td>860</td>\n",
       "      <td>880</td>\n",
       "      <td>False</td>\n",
       "      <td>796216118331310080</td>\n",
       "      <td>en</td>\n",
       "      <td>...</td>\n",
       "      <td>160.0</td>\n",
       "      <td>24</td>\n",
       "      <td>5.708333</td>\n",
       "      <td>79.5</td>\n",
       "      <td>0</td>\n",
       "      <td>0</td>\n",
       "      <td>0</td>\n",
       "      <td>eng_Latn</td>\n",
       "      <td>photographing american west since specialize l...</td>\n",
       "      <td>[ 1.23141252e-01  3.28236707e-02  6.71125874e-...</td>\n",
       "    </tr>\n",
       "    <tr>\n",
       "      <th>2</th>\n",
       "      <td>2017-06-17 05:34:27</td>\n",
       "      <td>False</td>\n",
       "      <td>False</td>\n",
       "      <td>Scruffy looking nerf herder and @twitch broadc...</td>\n",
       "      <td>3307</td>\n",
       "      <td>172</td>\n",
       "      <td>594</td>\n",
       "      <td>True</td>\n",
       "      <td>875949740503859204</td>\n",
       "      <td>en</td>\n",
       "      <td>...</td>\n",
       "      <td>81.0</td>\n",
       "      <td>10</td>\n",
       "      <td>7.100000</td>\n",
       "      <td>81.0</td>\n",
       "      <td>0</td>\n",
       "      <td>2</td>\n",
       "      <td>0</td>\n",
       "      <td>eng_Latn</td>\n",
       "      <td>scruffy looking nerf herder twitch broadcaster...</td>\n",
       "      <td>[-1.56285420e-01 -1.87174845e-02  2.06510071e-...</td>\n",
       "    </tr>\n",
       "    <tr>\n",
       "      <th>3</th>\n",
       "      <td>2016-07-21 13:32:25</td>\n",
       "      <td>True</td>\n",
       "      <td>False</td>\n",
       "      <td>Wife.Godmother.Friend.Feline Fanatic! Assistan...</td>\n",
       "      <td>8433</td>\n",
       "      <td>517</td>\n",
       "      <td>633</td>\n",
       "      <td>True</td>\n",
       "      <td>756119643622735875</td>\n",
       "      <td>en</td>\n",
       "      <td>...</td>\n",
       "      <td>97.0</td>\n",
       "      <td>9</td>\n",
       "      <td>9.888889</td>\n",
       "      <td>48.0</td>\n",
       "      <td>0</td>\n",
       "      <td>0</td>\n",
       "      <td>0</td>\n",
       "      <td>eng_Latn</td>\n",
       "      <td>wifegodmotherfriendfeline fanatic assistant pr...</td>\n",
       "      <td>[-1.12442961e-02  2.95709576e-02  5.34762219e-...</td>\n",
       "    </tr>\n",
       "    <tr>\n",
       "      <th>4</th>\n",
       "      <td>2012-01-15 16:32:35</td>\n",
       "      <td>False</td>\n",
       "      <td>False</td>\n",
       "      <td>Loan coach at @mancity &amp; Aspiring DJ</td>\n",
       "      <td>88</td>\n",
       "      <td>753678</td>\n",
       "      <td>116</td>\n",
       "      <td>True</td>\n",
       "      <td>464781334</td>\n",
       "      <td>en</td>\n",
       "      <td>...</td>\n",
       "      <td>36.0</td>\n",
       "      <td>7</td>\n",
       "      <td>4.285714</td>\n",
       "      <td>36.0</td>\n",
       "      <td>0</td>\n",
       "      <td>1</td>\n",
       "      <td>0</td>\n",
       "      <td>eng_Latn</td>\n",
       "      <td>loan coach mancity aspiring dj</td>\n",
       "      <td>[ 3.39397863e-02 -3.21879238e-02 -5.68432212e-...</td>\n",
       "    </tr>\n",
       "  </tbody>\n",
       "</table>\n",
       "<p>5 rows × 30 columns</p>\n",
       "</div>"
      ],
      "text/plain": [
       "            created_at  default_profile  default_profile_image  \\\n",
       "0  2016-10-15 21:32:11            False                  False   \n",
       "1  2016-11-09 05:01:30            False                  False   \n",
       "2  2017-06-17 05:34:27            False                  False   \n",
       "3  2016-07-21 13:32:25             True                  False   \n",
       "4  2012-01-15 16:32:35            False                  False   \n",
       "\n",
       "                                         description  favourites_count  \\\n",
       "0  Blame @xaiax, Inspired by @MakingInvisible, us...                 4   \n",
       "1  Photographing the American West since 1980. I ...               536   \n",
       "2  Scruffy looking nerf herder and @twitch broadc...              3307   \n",
       "3  Wife.Godmother.Friend.Feline Fanatic! Assistan...              8433   \n",
       "4               Loan coach at @mancity & Aspiring DJ                88   \n",
       "\n",
       "   followers_count  friends_count  geo_enabled                  id lang  ...  \\\n",
       "0             1589              4        False  787405734442958848   en  ...   \n",
       "1              860            880        False  796216118331310080   en  ...   \n",
       "2              172            594         True  875949740503859204   en  ...   \n",
       "3              517            633         True  756119643622735875   en  ...   \n",
       "4           753678            116         True           464781334   en  ...   \n",
       "\n",
       "  length word_count mean_word_length mean_sent_length  hashtag_count  \\\n",
       "0  129.0         18         6.222222             64.0              0   \n",
       "1  160.0         24         5.708333             79.5              0   \n",
       "2   81.0         10         7.100000             81.0              0   \n",
       "3   97.0          9         9.888889             48.0              0   \n",
       "4   36.0          7         4.285714             36.0              0   \n",
       "\n",
       "   handle_count  url_count  description_language  \\\n",
       "0             2          0              eng_Latn   \n",
       "1             0          0              eng_Latn   \n",
       "2             2          0              eng_Latn   \n",
       "3             0          0              eng_Latn   \n",
       "4             1          0              eng_Latn   \n",
       "\n",
       "                                      description_en  \\\n",
       "0  blame xaiax inspired makinginvisible using cmu...   \n",
       "1  photographing american west since specialize l...   \n",
       "2  scruffy looking nerf herder twitch broadcaster...   \n",
       "3  wifegodmotherfriendfeline fanatic assistant pr...   \n",
       "4                     loan coach mancity aspiring dj   \n",
       "\n",
       "                           description_en_embeddings  \n",
       "0  [-6.27098307e-02 -5.99579886e-02 -1.00451875e-...  \n",
       "1  [ 1.23141252e-01  3.28236707e-02  6.71125874e-...  \n",
       "2  [-1.56285420e-01 -1.87174845e-02  2.06510071e-...  \n",
       "3  [-1.12442961e-02  2.95709576e-02  5.34762219e-...  \n",
       "4  [ 3.39397863e-02 -3.21879238e-02 -5.68432212e-...  \n",
       "\n",
       "[5 rows x 30 columns]"
      ]
     },
     "execution_count": 46,
     "metadata": {},
     "output_type": "execute_result"
    }
   ],
   "source": [
    "# twitter_translated_embeddings_df.head()"
   ]
  },
  {
   "cell_type": "code",
   "execution_count": null,
   "id": "4ab1e87e",
   "metadata": {},
   "outputs": [
    {
     "data": {
      "text/plain": [
       "{'account_age_days',\n",
       " 'account_type',\n",
       " 'average_tweets_per_day',\n",
       " 'default_profile',\n",
       " 'default_profile_image',\n",
       " 'description',\n",
       " 'description_en',\n",
       " 'description_en_embeddings',\n",
       " 'description_language',\n",
       " 'favourites_count',\n",
       " 'followers_count',\n",
       " 'friends_count',\n",
       " 'geo_enabled',\n",
       " 'handle_count',\n",
       " 'hashtag_count',\n",
       " 'id',\n",
       " 'lang',\n",
       " 'lang_grouped',\n",
       " 'length',\n",
       " 'mean_sent_length',\n",
       " 'mean_word_length',\n",
       " 'url_count',\n",
       " 'verified',\n",
       " 'word_count'}"
      ]
     },
     "execution_count": 50,
     "metadata": {},
     "output_type": "execute_result"
    }
   ],
   "source": [
    "# set(twitter_translated_embeddings_df.columns) - set(['created_at', 'profile_background_image_url', 'profile_image_url', 'screen_name', 'location', 'id'\n",
    "#                           'statuses_count' # or average_tweets_per_day\n",
    "#                           ])"
   ]
  },
  {
   "cell_type": "code",
   "execution_count": null,
   "id": "8f55867a",
   "metadata": {},
   "outputs": [],
   "source": [
    "# cols_to_keep = []\n",
    "\n",
    "# final_df = twitter_translated_embeddings_df[cols_to_keep]"
   ]
  },
  {
   "cell_type": "code",
   "execution_count": null,
   "id": "2bcf4a30",
   "metadata": {},
   "outputs": [],
   "source": [
    "# final_df.to_csv('twitter_bots_final.csv', index = False)"
   ]
  }
 ],
 "metadata": {
  "kernelspec": {
   "display_name": "venv",
   "language": "python",
   "name": "python3"
  },
  "language_info": {
   "codemirror_mode": {
    "name": "ipython",
    "version": 3
   },
   "file_extension": ".py",
   "mimetype": "text/x-python",
   "name": "python",
   "nbconvert_exporter": "python",
   "pygments_lexer": "ipython3",
   "version": "3.12.3"
  }
 },
 "nbformat": 4,
 "nbformat_minor": 5
}
